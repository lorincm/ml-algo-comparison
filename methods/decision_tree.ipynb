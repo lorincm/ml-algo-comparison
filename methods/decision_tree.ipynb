{
 "cells": [
  {
   "cell_type": "code",
   "execution_count": 21,
   "metadata": {},
   "outputs": [],
   "source": [
    "import numpy as np\n",
    "import os\n",
    "os.chdir(\"..\")\n",
    "data = np.loadtxt(('data/preprocessed-dataset.csv'), delimiter=',', skiprows=1)\n",
    "os.chdir(\"methods\")\n",
    "x = data[:,1:35]\n",
    "y = data[:,35]\n",
    "\n",
    "\n",
    "from sklearn.model_selection import train_test_split\n",
    "x_train, x_test, y_train, y_test = train_test_split(x, y, random_state=1, test_size=0.2)\n",
    "\n",
    "from sklearn.tree import DecisionTreeClassifier\n",
    "dtree = DecisionTreeClassifier()\n",
    "dtree = dtree.fit(x_train, y_train)\n",
    "\n",
    "y_predict=dtree.predict(x_test)\n"
   ]
  },
  {
   "cell_type": "code",
   "execution_count": 22,
   "metadata": {},
   "outputs": [
    {
     "name": "stdout",
     "output_type": "stream",
     "text": [
      "Accuracy: 0.8523725834797891\n",
      "Precision: 0.8464285714285714\n",
      "Recall: 0.8525179856115108\n",
      "\n",
      "              precision    recall  f1-score   support\n",
      "\n",
      "         0.0       0.86      0.85      0.86       291\n",
      "         1.0       0.85      0.85      0.85       278\n",
      "\n",
      "    accuracy                           0.85       569\n",
      "   macro avg       0.85      0.85      0.85       569\n",
      "weighted avg       0.85      0.85      0.85       569\n",
      "\n"
     ]
    }
   ],
   "source": [
    "from sklearn import metrics\n",
    "from sklearn.metrics import classification_report, confusion_matrix\n",
    "\n",
    "def model_info(model_pred):\n",
    "    print(\"Accuracy:\", metrics.accuracy_score(y_test, model_pred))\n",
    "    print(\"Precision:\", metrics.precision_score(y_test, model_pred))\n",
    "    print(\"Recall:\", metrics.recall_score(y_test, model_pred), end=\"\\n\\n\")\n",
    "    print(classification_report(y_test, model_pred))\n",
    "\n",
    "model_info(y_predict)"
   ]
  },
  {
   "cell_type": "code",
   "execution_count": 66,
   "metadata": {},
   "outputs": [
    {
     "name": "stdout",
     "output_type": "stream",
     "text": [
      "Fitting 5 folds for each of 252 candidates, totalling 1260 fits\n",
      "Accuracy: 0.8646748681898067\n",
      "Precision: 0.8430034129692833\n",
      "Recall: 0.8884892086330936\n",
      "\n",
      "              precision    recall  f1-score   support\n",
      "\n",
      "         0.0       0.89      0.84      0.86       291\n",
      "         1.0       0.84      0.89      0.87       278\n",
      "\n",
      "    accuracy                           0.86       569\n",
      "   macro avg       0.87      0.87      0.86       569\n",
      "weighted avg       0.87      0.86      0.86       569\n",
      "\n"
     ]
    }
   ],
   "source": [
    "from sklearn.model_selection import GridSearchCV\n",
    "\n",
    "# Applying grid search for the linear model\n",
    "# This block is reall resource heavy as we have a quite big grid to search\n",
    "tree_parameters = {'criterion' : ['gini', 'entropy'],\n",
    "                    'max_depth' : [i for i in range(1, 15, 2)],\n",
    "                      'max_features' : ['auto','sqrt'],\n",
    "                      'min_samples_split' : [2, 3, 5],\n",
    "                      'min_samples_leaf' : [1, 2, 3]\n",
    "                      }\n",
    "model_grid = GridSearchCV(dtree, tree_parameters, refit = True, verbose = 3, n_jobs=2)\n",
    "model_grid.fit(x_train, y_train)\n",
    "grid_pred = model_grid.predict(x_test)\n",
    "\n",
    "model_info(grid_pred)"
   ]
  },
  {
   "cell_type": "code",
   "execution_count": 67,
   "metadata": {},
   "outputs": [
    {
     "data": {
      "text/plain": [
       "{'criterion': 'gini',\n",
       " 'max_depth': 9,\n",
       " 'max_features': 'auto',\n",
       " 'min_samples_leaf': 1,\n",
       " 'min_samples_split': 2}"
      ]
     },
     "execution_count": 67,
     "metadata": {},
     "output_type": "execute_result"
    }
   ],
   "source": [
    "model_grid.best_params_"
   ]
  },
  {
   "cell_type": "code",
   "execution_count": 68,
   "metadata": {},
   "outputs": [],
   "source": [
    "from sklearn.metrics import accuracy_score, precision_score, recall_score, confusion_matrix, roc_auc_score\n",
    "dtree_model = DecisionTreeClassifier(ccp_alpha=0.0, criterion='gini', max_depth=9, max_features='sqrt', min_samples_leaf=1, min_samples_split=2)\n",
    "dtree_model.fit(x_train, y_train)\n",
    "y_predict = dtree_model.predict(x_test)"
   ]
  },
  {
   "cell_type": "code",
   "execution_count": 72,
   "metadata": {},
   "outputs": [
    {
     "name": "stdout",
     "output_type": "stream",
     "text": [
      "Accuracy: 0.8523725834797891\n",
      "Precision: 0.825503355704698\n",
      "Recall: 0.8848920863309353\n",
      "\n",
      "              precision    recall  f1-score   support\n",
      "\n",
      "         0.0       0.88      0.82      0.85       291\n",
      "         1.0       0.83      0.88      0.85       278\n",
      "\n",
      "    accuracy                           0.85       569\n",
      "   macro avg       0.85      0.85      0.85       569\n",
      "weighted avg       0.85      0.85      0.85       569\n",
      "\n",
      "[[239  52]\n",
      " [ 32 246]]\n",
      "0.853098964127667\n"
     ]
    }
   ],
   "source": [
    "model_info(y_predict)\n",
    "print(confusion_matrix(y_test, y_predict))\n",
    "print(roc_auc_score(y_test, y_predict))"
   ]
  },
  {
   "cell_type": "code",
   "execution_count": 4,
   "metadata": {},
   "outputs": [
    {
     "data": {
      "text/plain": [
       "dict_keys(['ccp_alpha', 'class_weight', 'criterion', 'max_depth', 'max_features', 'max_leaf_nodes', 'min_impurity_decrease', 'min_samples_leaf', 'min_samples_split', 'min_weight_fraction_leaf', 'random_state', 'splitter'])"
      ]
     },
     "execution_count": 4,
     "metadata": {},
     "output_type": "execute_result"
    }
   ],
   "source": [
    "DecisionTreeClassifier().get_params().keys()"
   ]
  }
 ],
 "metadata": {
  "kernelspec": {
   "display_name": "Python 3 (ipykernel)",
   "language": "python",
   "name": "python3"
  },
  "language_info": {
   "codemirror_mode": {
    "name": "ipython",
    "version": 3
   },
   "file_extension": ".py",
   "mimetype": "text/x-python",
   "name": "python",
   "nbconvert_exporter": "python",
   "pygments_lexer": "ipython3",
   "version": "3.9.13"
  },
  "vscode": {
   "interpreter": {
    "hash": "aee8b7b246df8f9039afb4144a1f6fd8d2ca17a180786b69acc140d282b71a49"
   }
  }
 },
 "nbformat": 4,
 "nbformat_minor": 2
}
