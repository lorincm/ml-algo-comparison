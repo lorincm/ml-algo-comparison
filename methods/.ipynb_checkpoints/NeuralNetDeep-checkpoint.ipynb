{
 "cells": [
  {
   "cell_type": "code",
   "execution_count": 1,
   "id": "e71acf70",
   "metadata": {},
   "outputs": [
    {
     "name": "stderr",
     "output_type": "stream",
     "text": [
      "C:\\Users\\mihal\\AppData\\Local\\Programs\\Python\\Python310\\lib\\site-packages\\tqdm\\auto.py:21: TqdmWarning: IProgress not found. Please update jupyter and ipywidgets. See https://ipywidgets.readthedocs.io/en/stable/user_install.html\n",
      "  from .autonotebook import tqdm as notebook_tqdm\n"
     ]
    }
   ],
   "source": [
    "import numpy as np\n",
    "import torch as T\n",
    "import pandas as pd\n",
    "import tqdm\n",
    "import copy\n",
    "from sklearn.model_selection import StratifiedKFold, train_test_split"
   ]
  },
  {
   "cell_type": "code",
   "execution_count": 3,
   "id": "be886a18",
   "metadata": {},
   "outputs": [],
   "source": [
    "from sklearn.model_selection import train_test_split\n",
    "import os\n",
    "\n",
    "os.chdir(\"..\")\n",
    "data = np.loadtxt(('data/preprocessed-dataset.csv'), delimiter=',', skiprows=1)\n",
    "os.chdir(\"methods\")\n",
    "x = data[0:, 1:35]\n",
    "y = data[:, 35]\n",
    "\n",
    "x = T.tensor(x, dtype=T.float32)\n",
    "y = T.tensor(y, dtype=T.float32).reshape(-1, 1)\n",
    "\n",
    "x_train, x_test, y_train, y_test = train_test_split(x, y, random_state=1, train_size=0.8)"
   ]
  },
  {
   "cell_type": "code",
   "execution_count": 4,
   "id": "deb5babb",
   "metadata": {},
   "outputs": [],
   "source": [
    "class Deep(T.nn.Module):\n",
    "    def __init__(self):\n",
    "        super().__init__()\n",
    "        \n",
    "        self.layer1 = T.nn.Linear(34, 34)\n",
    "        self.act1 = T.nn.ReLU()\n",
    "        \n",
    "        self.layer2 = T.nn.Linear(34, 34)\n",
    "        self.act2 = T.nn.ReLU()\n",
    "        \n",
    "        self.layer3 = T.nn.Linear(34, 34)\n",
    "        self.act3 = T.nn.ReLU()\n",
    "        \n",
    "        self.layer4 = T.nn.Linear(34, 34)\n",
    "        self.act4 = T.nn.ReLU()\n",
    "        \n",
    "        self.output = T.nn.Linear(34, 1)\n",
    "        self.sigmoid = T.nn.Sigmoid()\n",
    " \n",
    "    def forward(self, x):\n",
    "        x = self.act1(self.layer1(x))\n",
    "        x = self.act2(self.layer2(x))\n",
    "        x = self.act3(self.layer3(x))\n",
    "        x = self.act4(self.layer4(x))\n",
    "        \n",
    "        x = self.sigmoid(self.output(x))\n",
    "        return x"
   ]
  },
  {
   "cell_type": "code",
   "execution_count": 5,
   "id": "70c1ff74",
   "metadata": {},
   "outputs": [],
   "source": [
    "def model_train(model, X_train, y_train, X_val, y_val):\n",
    "    # loss function and optimizer\n",
    "    loss_fn = T.nn.BCELoss()  # binary cross entropy\n",
    "    optimizer = T.optim.Adam(model.parameters(), lr=0.0001)\n",
    " \n",
    "    n_epochs = 250   # number of epochs to run\n",
    "    batch_size = 10  # size of each batch\n",
    "    batch_start = T.arange(0, len(X_train), batch_size)\n",
    " \n",
    "    # Hold the best model\n",
    "    best_acc = - np.inf   # init to t infinity\n",
    "    best_weights = None\n",
    " \n",
    "    for epoch in range(n_epochs):\n",
    "        model.train()\n",
    "        with tqdm.tqdm(batch_start, unit=\"batch\", mininterval=0, disable=True) as bar:\n",
    "            bar.set_description(f\"Epoch {epoch}\")\n",
    "            for start in bar:\n",
    "                # take a batch\n",
    "                X_batch = X_train[start:start+batch_size]\n",
    "                y_batch = y_train[start:start+batch_size]\n",
    "                # forward pass\n",
    "                y_pred = model(X_batch)\n",
    "                loss = loss_fn(y_pred, y_batch)\n",
    "                # backward pass\n",
    "                optimizer.zero_grad()\n",
    "                loss.backward()\n",
    "                # update weights\n",
    "                optimizer.step()\n",
    "                # print progress\n",
    "                acc = (y_pred.round() == y_batch).float().mean()\n",
    "                bar.set_postfix(\n",
    "                    loss=float(loss),\n",
    "                    acc=float(acc)\n",
    "                )\n",
    "        # evaluate accuracy at end of each epoch\n",
    "        model.eval()\n",
    "        y_pred = model(X_val)\n",
    "        acc = (y_pred.round() == y_val).float().mean()\n",
    "        acc = float(acc)\n",
    "        if acc > best_acc:\n",
    "            best_acc = acc\n",
    "            best_weights = copy.deepcopy(model.state_dict())\n",
    "    # restore model and return best accuracy\n",
    "    model.load_state_dict(best_weights)\n",
    "    return best_acc"
   ]
  },
  {
   "cell_type": "code",
   "execution_count": 6,
   "id": "35ddaef8",
   "metadata": {},
   "outputs": [
    {
     "name": "stdout",
     "output_type": "stream",
     "text": [
      "Accuracy 0.9142857193946838\n",
      "Accuracy 0.9076923131942749\n",
      "Accuracy 0.8593406677246094\n",
      "Accuracy 0.892070472240448\n",
      "Accuracy 0.9052863717079163\n"
     ]
    }
   ],
   "source": [
    "kfold = StratifiedKFold(n_splits=5, shuffle=True)\n",
    "cv_scores_wide = []\n",
    "for train, test in kfold.split(x_train, y_train):\n",
    "    # create model, train, and get accuracy\n",
    "    model = Deep()\n",
    "    accuracy = model_train(model, x_train[train], y_train[train], x_train[test], y_train[test])\n",
    "    print(\"Accuracy\", accuracy)\n",
    "    cv_scores_wide.append(accuracy)\n"
   ]
  }
 ],
 "metadata": {
  "kernelspec": {
   "display_name": "Python 3 (ipykernel)",
   "language": "python",
   "name": "python3"
  },
  "language_info": {
   "codemirror_mode": {
    "name": "ipython",
    "version": 3
   },
   "file_extension": ".py",
   "mimetype": "text/x-python",
   "name": "python",
   "nbconvert_exporter": "python",
   "pygments_lexer": "ipython3",
   "version": "3.10.4"
  }
 },
 "nbformat": 4,
 "nbformat_minor": 5
}
