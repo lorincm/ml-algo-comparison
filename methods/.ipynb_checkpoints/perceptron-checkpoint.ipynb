{
 "cells": [
  {
   "cell_type": "code",
   "execution_count": 3,
   "metadata": {},
   "outputs": [],
   "source": [
    "import numpy as np\n",
    "import os\n",
    "os.chdir(\"..\")\n",
    "data = np.loadtxt(('data/preprocessed-dataset.csv'), delimiter=',', skiprows=1)\n",
    "os.chdir(\"methods\")\n",
    "x = data[:,1:35]\n",
    "y = data[:,35]"
   ]
  },
  {
   "cell_type": "code",
   "execution_count": 4,
   "metadata": {},
   "outputs": [],
   "source": [
    "from sklearn.model_selection import train_test_split\n",
    "x_train, x_test, y_train, y_test = train_test_split(x, y, test_size=0.2)"
   ]
  },
  {
   "cell_type": "code",
   "execution_count": 5,
   "metadata": {},
   "outputs": [
    {
     "data": {
      "text/plain": [
       "Perceptron()"
      ]
     },
     "execution_count": 5,
     "metadata": {},
     "output_type": "execute_result"
    }
   ],
   "source": [
    "from sklearn.linear_model import Perceptron\n",
    "\n",
    "p_model=Perceptron()\n",
    "p_model.fit(x_train, y_train)\n",
    "\n"
   ]
  },
  {
   "cell_type": "code",
   "execution_count": 6,
   "metadata": {},
   "outputs": [
    {
     "name": "stdout",
     "output_type": "stream",
     "text": [
      "Accuracy: 0.8453427065026362\n",
      "Precision: 0.7737003058103975\n",
      "Recall: 0.947565543071161\n"
     ]
    }
   ],
   "source": [
    "from sklearn.metrics import accuracy_score, precision_score, recall_score\n",
    "\n",
    "y_predict=p_model.predict(x_test)\n",
    "\n",
    "print('Accuracy: {}'.format(accuracy_score(y_test, y_predict)))\n",
    "print('Precision: {}'.format(precision_score(y_test, y_predict)))\n",
    "print('Recall: {}'.format(recall_score(y_test, y_predict)))"
   ]
  },
  {
   "cell_type": "code",
   "execution_count": 7,
   "metadata": {},
   "outputs": [
    {
     "data": {
      "text/plain": [
       "dict_keys(['alpha', 'class_weight', 'early_stopping', 'eta0', 'fit_intercept', 'l1_ratio', 'max_iter', 'n_iter_no_change', 'n_jobs', 'penalty', 'random_state', 'shuffle', 'tol', 'validation_fraction', 'verbose', 'warm_start'])"
      ]
     },
     "execution_count": 7,
     "metadata": {},
     "output_type": "execute_result"
    }
   ],
   "source": [
    "from sklearn.linear_model import Perceptron\n",
    "Perceptron().get_params().keys()"
   ]
  },
  {
   "cell_type": "code",
   "execution_count": 8,
   "metadata": {},
   "outputs": [
    {
     "name": "stdout",
     "output_type": "stream",
     "text": [
      "Fitting 10 folds for each of 45 candidates, totalling 450 fits\n"
     ]
    },
    {
     "data": {
      "text/plain": [
       "GridSearchCV(cv=10, estimator=Perceptron(), n_jobs=4,\n",
       "             param_grid=[{'eta0': [0.0001, 0.001, 0.01, 0.1, 1.0],\n",
       "                          'penalty': ['l2', 'l1', 'elasticnet'],\n",
       "                          'tol': [0.1, 0.001, 1e-05]}],\n",
       "             verbose=2)"
      ]
     },
     "execution_count": 8,
     "metadata": {},
     "output_type": "execute_result"
    }
   ],
   "source": [
    "param_grid = [{\n",
    "    'tol': [1e-1, 1e-3, 1e-5],\n",
    "    'penalty': ['l2', 'l1', 'elasticnet'],\n",
    "    'eta0': [0.0001, 0.001, 0.01, 0.1, 1.0]\n",
    "}]\n",
    "\n",
    "from sklearn.model_selection import GridSearchCV\n",
    "p_grid=GridSearchCV(estimator=Perceptron(), param_grid=param_grid, cv=10, verbose=2, n_jobs=4)\n",
    "p_grid.fit(x_train, y_train)"
   ]
  },
  {
   "cell_type": "code",
   "execution_count": 9,
   "metadata": {},
   "outputs": [
    {
     "data": {
      "text/plain": [
       "{'eta0': 0.001, 'penalty': 'l2', 'tol': 0.001}"
      ]
     },
     "execution_count": 9,
     "metadata": {},
     "output_type": "execute_result"
    }
   ],
   "source": [
    "p_grid.best_params_"
   ]
  },
  {
   "cell_type": "code",
   "execution_count": 14,
   "metadata": {},
   "outputs": [
    {
     "data": {
      "text/plain": [
       "Perceptron(eta0=0.001, penalty='l2')"
      ]
     },
     "execution_count": 14,
     "metadata": {},
     "output_type": "execute_result"
    }
   ],
   "source": [
    "from sklearn.linear_model import Perceptron\n",
    "\n",
    "p_model=Perceptron(eta0= 0.001, penalty='l2', tol=0.001)\n",
    "p_model.fit(x_train, y_train)"
   ]
  },
  {
   "cell_type": "code",
   "execution_count": 15,
   "metadata": {},
   "outputs": [
    {
     "name": "stdout",
     "output_type": "stream",
     "text": [
      "Accuracy: 0.8400702987697716\n"
     ]
    }
   ],
   "source": [
    "y_predict=p_model.predict(x_test)\n",
    "\n",
    "print('Accuracy: {}'.format(accuracy_score(y_test, y_predict)))"
   ]
  }
 ],
 "metadata": {
  "kernelspec": {
   "display_name": "Python 3 (ipykernel)",
   "language": "python",
   "name": "python3"
  },
  "language_info": {
   "codemirror_mode": {
    "name": "ipython",
    "version": 3
   },
   "file_extension": ".py",
   "mimetype": "text/x-python",
   "name": "python",
   "nbconvert_exporter": "python",
   "pygments_lexer": "ipython3",
   "version": "3.10.4"
  },
  "vscode": {
   "interpreter": {
    "hash": "adef9b2e1761d9ef0b2cca68f24c91839ed78d424571b6640ba0ef8dc916354e"
   }
  }
 },
 "nbformat": 4,
 "nbformat_minor": 2
}
